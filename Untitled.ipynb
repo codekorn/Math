{
 "cells": [
  {
   "cell_type": "code",
   "execution_count": 47,
   "id": "6d1e9699",
   "metadata": {},
   "outputs": [
    {
     "ename": "IndentationError",
     "evalue": "unexpected indent (1488108691.py, line 6)",
     "output_type": "error",
     "traceback": [
      "\u001b[0;36m  File \u001b[0;32m\"/var/folders/6n/z6rxdnf97bn07rs5km3j2rjm0000gn/T/ipykernel_91999/1488108691.py\"\u001b[0;36m, line \u001b[0;32m6\u001b[0m\n\u001b[0;31m    def create_git_commit(y,m,d):\u001b[0m\n\u001b[0m    ^\u001b[0m\n\u001b[0;31mIndentationError\u001b[0m\u001b[0;31m:\u001b[0m unexpected indent\n"
     ]
    }
   ],
   "source": [
    "import sys\n",
    "import calendar\n",
    "import time\n",
    "from datetime import datetime\n",
    "\n",
    "def create_git_commit(y,m,d):\n",
    "    day_of_week = datetime(y, m, d).strftime('%a')\n",
    "    month = calendar.month_abbr[m]\n",
    "    time = datetime.now().strftime(\"%H:%M:%S\")\n",
    "    date = f\"{day_of_week} {month} {d} {time} {y} -0400\"\n",
    "    return f\"\"\"GIT_AUTHOR_DATE='{date}' GIT_COMMITTER_DATE='{date}' git commit -m '(Message)'\"\"\" \n",
    "\n",
    "if __name__ == '__main__':\n",
    "    print(sys.argv)\n",
    "    create_git_commit(*sys.argv)"
   ]
  },
  {
   "cell_type": "code",
   "execution_count": 55,
   "id": "7dd6613c",
   "metadata": {},
   "outputs": [],
   "source": [
    "def create_git_commit(y,m,d):\n",
    "    print(list(locals().values())[:-1])\n",
    "#     day_of_week = datetime(y, m, d).strftime('%a')\n",
    "#     month = calendar.month_abbr[m]\n",
    "#     time = datetime.now().strftime(\"%H:%M:%S\")\n",
    "#     date = f\"{day_of_week} {month} {d} {time} {y} -0400\"\n",
    "#     return f\"\"\"GIT_AUTHOR_DATE='{date}' GIT_COMMITTER_DATE='{date}' git commit -m '(Message)'\"\"\" \n"
   ]
  },
  {
   "cell_type": "code",
   "execution_count": 56,
   "id": "980290e2",
   "metadata": {},
   "outputs": [
    {
     "name": "stdout",
     "output_type": "stream",
     "text": [
      "[2022, 5]\n"
     ]
    }
   ],
   "source": [
    "ddd = [2022,5,5]\n",
    "create_git_commit(*ddd)"
   ]
  },
  {
   "cell_type": "code",
   "execution_count": 58,
   "id": "85877cb5",
   "metadata": {},
   "outputs": [
    {
     "data": {
      "text/plain": [
       "[1, 2, 3]"
      ]
     },
     "execution_count": 58,
     "metadata": {},
     "output_type": "execute_result"
    }
   ],
   "source": [
    "list([1,2,3])"
   ]
  },
  {
   "cell_type": "code",
   "execution_count": null,
   "id": "787015d8",
   "metadata": {},
   "outputs": [],
   "source": [
    "aa =2"
   ]
  }
 ],
 "metadata": {
  "kernelspec": {
   "display_name": "Python 3 (ipykernel)",
   "language": "python",
   "name": "python3"
  },
  "language_info": {
   "codemirror_mode": {
    "name": "ipython",
    "version": 3
   },
   "file_extension": ".py",
   "mimetype": "text/x-python",
   "name": "python",
   "nbconvert_exporter": "python",
   "pygments_lexer": "ipython3",
   "version": "3.9.7"
  }
 },
 "nbformat": 4,
 "nbformat_minor": 5
}
